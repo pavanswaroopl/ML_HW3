{
  "nbformat": 4,
  "nbformat_minor": 0,
  "metadata": {
    "colab": {
      "provenance": []
    },
    "kernelspec": {
      "name": "python3",
      "display_name": "Python 3"
    },
    "language_info": {
      "name": "python"
    }
  },
  "cells": [
    {
      "cell_type": "code",
      "execution_count": null,
      "metadata": {
        "id": "2WL34b4JoOR-"
      },
      "outputs": [],
      "source": [
        "import numpy as np\n",
        "import pandas as pd\n",
        "import scipy \n",
        "import sklearn\n",
        "from collections import Counter\n",
        "from sklearn.metrics import multilabel_confusion_matrix\n",
        "from scipy import spatial\n",
        "!pip install scikit-surprise\n",
        "from surprise import SVD"
      ]
    },
    {
      "cell_type": "code",
      "source": [
        "data = pd.read_csv('data.csv')\n",
        "label = pd.read_csv('label.csv',names=['label'],header=None)"
      ],
      "metadata": {
        "id": "rrmVALKk1Olt"
      },
      "execution_count": 6,
      "outputs": []
    },
    {
      "cell_type": "code",
      "source": [
        "class KMeans_Clustering:\n",
        "    \n",
        "    def SSE_Calculation(self, centroid_value, centroid,data):\n",
        "        data_sse = 0\n",
        "        for i in centroid:\n",
        "            cluster_sse = 0\n",
        "            for j in centroid[i]:\n",
        "                dp = list(data.iloc[int(j)])\n",
        "                for a,b in zip(centroid_value[i],dp):\n",
        "                    cluster_sse += (a-b)**2\n",
        "            data_sse+=cluster_sse\n",
        "        return data_sse    \n",
        "    \n",
        "    def Centroids_Initialization(self,data,K_value):\n",
        "        m = data.shape[0]\n",
        "        centroid_value={}\n",
        "        for i in range(K_value):\n",
        "            r = np.random.randint(0, m-1)\n",
        "            centroid_value[i] = data.iloc[r]\n",
        "        return centroid_value\n",
        "    \n",
        "    def calculate_jaccard_similarity(self,centroid_value, dp):\n",
        "        intersection_value = len(list(set(centroid_value).intersection(dp)))\n",
        "        union_value = (len(set(centroid_value)) + len(set(dp))) - intersection_value\n",
        "        return float(intersection_value) / union_value\n",
        "\n",
        "    def Kmeans_training(self ,data ,K_value ,max_iteration = 20 ,mode_value = 1 ,tolerance = 10):\n",
        "        centroid_value = self.Centroids_Initialization(data,K_value)\n",
        "        new_centroid_value = {}\n",
        "        count = 0\n",
        "        centroid = {}\n",
        "        convergence = False\n",
        "        while((count<max_iteration) and not convergence):\n",
        "            \n",
        "            for i in list(centroid_value.keys()):\n",
        "                centroid[i]=[]\n",
        "            for i in range(data.shape[0]):\n",
        "                x = data.iloc[i]\n",
        "                if mode_value==1 :\n",
        "                    distance_value = [np.linalg.norm(x-centroid_value[j])  for j in centroid_value]\n",
        "                    idx = np.argmin(distance_value)\n",
        "                    centroid[idx].append(i)\n",
        "                elif mode_value==2 :\n",
        "                    distance_value = [self.calculate_jaccard_similarity(list(x),centroid_value[j]) for j in centroid_value]\n",
        "                    idx = np.argmax(distance_value)\n",
        "                    centroid[idx].append(i)\n",
        "                elif mode_value==3 :\n",
        "                    distance_value = [1-scipy.spatial.distance.cosine(x,list(centroid_value[j]))  for j in centroid_value]\n",
        "                    idx = np.argmax(distance_value)\n",
        "                    centroid[idx].append(i)\n",
        "                \n",
        "                prev_centroids=dict(centroid_value)\n",
        "                \n",
        "            \n",
        "            for i in centroid:\n",
        "                if len(centroid[i]):\n",
        "                    dps_centroid = centroid[i]\n",
        "                    centroid_value[i] = np.average(data.iloc[dps_centroid],axis=0)\n",
        "            \n",
        "            \n",
        "            current_tolerance=-1\n",
        "            for i in centroid_value:\n",
        "                prev_centroid = prev_centroids[i]\n",
        "                new_centroid = centroid_value[i]\n",
        "                change = np.sum(np.absolute(new_centroid-prev_centroid))\n",
        "                current_tolerance = max(change, current_tolerance)\n",
        "                \n",
        "            print(\"Iteration \",count,\" Tolerance: \",current_tolerance)\n",
        "            \n",
        "            count+=1\n",
        "            if (current_tolerance<10):\n",
        "                convergence = True\n",
        "                break\n",
        "        return centroid_value,centroid"
      ],
      "metadata": {
        "id": "JI-XA33V1Td6"
      },
      "execution_count": 7,
      "outputs": []
    },
    {
      "cell_type": "code",
      "source": [
        "def cluster_labels_prediction(Centroids, Centroids_Set, labels):\n",
        "    cluster_label = np.zeros(10,dtype=int)\n",
        "    for c in Centroids_Set:\n",
        "        points_labels = []\n",
        "        for point in Centroids_Set[c]:\n",
        "            points_labels.extend(labels.iloc[point])\n",
        "        counter_value = Counter(points_labels)\n",
        "        try:\n",
        "            cluster_label[c] = max(counter_value, key=counter_value.get)\n",
        "        except:\n",
        "            cluster_label[c] = np.random.randint(0,9)\n",
        "    return cluster_label"
      ],
      "metadata": {
        "id": "cTZNCoTu6Xi6"
      },
      "execution_count": 11,
      "outputs": []
    },
    {
      "cell_type": "code",
      "source": [
        "def calculate_jaccard_similarity(centroid_value, dp):\n",
        "  intersection_value = len(list(set(centroid_value).intersection(dp)))\n",
        "  union_value = (len(set(centroid_value)) + len(set(dp))) - intersection_value\n",
        "  return float(intersection_value) / union_value"
      ],
      "metadata": {
        "id": "1V9uKDn36cey"
      },
      "execution_count": 9,
      "outputs": []
    },
    {
      "cell_type": "code",
      "source": [
        "def accuracy_value(centroids_set, centroid_labels, test_data, true_label, mode_value=1):\n",
        "    y_true = list(true_label['label']);\n",
        "    y_pred = []\n",
        "    for index in range(test_data.shape[0]):\n",
        "        feature_set = test_data.iloc[index]\n",
        "        if mode_value==1:\n",
        "            distances = [np.linalg.norm(feature_set - centroids_set[centroid]) for centroid in centroids_set]\n",
        "            classification_value = distances.index(min(distances))\n",
        "            y_pred.append(centroid_labels[classification_value])\n",
        "        elif mode_value==2:\n",
        "            similarity = [calculate_jaccard_similarity(feature_set, centroids_set[centroid]) for centroid in centroids_set]\n",
        "            classification_value = similarity.index(max(similarity))\n",
        "            y_pred.append(centroid_labels[classification_value]) \n",
        "        elif mode_value==3:\n",
        "            similarity = [1 - spatial.distance.cosine(feature_set, centroids_set[centroid]) for centroid in centroids_set]\n",
        "            classification_value = similarity.index(max(similarity))\n",
        "            y_pred.append(centroid_labels[classification_value])\n",
        "    denominator_value = test_data.shape[0]\n",
        "    correctly_classified_value = 0\n",
        "    for i in range(0,len(y_pred)):\n",
        "        if y_true[i] == y_pred[i]:\n",
        "            correctly_classified_value += 1\n",
        "    accuracy_value = correctly_classified_value/denominator_value\n",
        "    return accuracy_value"
      ],
      "metadata": {
        "id": "y6Lkanu76e8D"
      },
      "execution_count": 10,
      "outputs": []
    },
    {
      "cell_type": "code",
      "source": [
        "model_1 = KMeans_Clustering()\n",
        "centroids_1,clusters_1 = model_1.Kmeans_training(data,10, max_iteration=100,mode_value=1)"
      ],
      "metadata": {
        "id": "55yA_W9I6hRj"
      },
      "execution_count": null,
      "outputs": []
    },
    {
      "cell_type": "code",
      "source": [
        "SSE_of_Euclidean = model_1.SSE_Calculation(centroids_1,clusters_1,data)"
      ],
      "metadata": {
        "id": "OAecAfJh6jIS"
      },
      "execution_count": null,
      "outputs": []
    },
    {
      "cell_type": "code",
      "source": [
        "print(\"Euclidean-K-Means SSE value : \",SSE_of_Euclidean)"
      ],
      "metadata": {
        "id": "tCfh-xEn6lhq"
      },
      "execution_count": null,
      "outputs": []
    },
    {
      "cell_type": "code",
      "source": [
        "cluster_labels_1 = cluster_labels_prediction(centroids_1,clusters_1,label)\n",
        "cluster_labels_1"
      ],
      "metadata": {
        "id": "-AdcwhNM6nqH"
      },
      "execution_count": null,
      "outputs": []
    },
    {
      "cell_type": "code",
      "source": [
        "Euclidean_accuracy = accuracy_value(centroids_1, cluster_labels_1,test_data,test_label)\n",
        "Euclidean_accuracy"
      ],
      "metadata": {
        "id": "ju3YXXMF6q3m"
      },
      "execution_count": null,
      "outputs": []
    },
    {
      "cell_type": "code",
      "source": [
        "model_2 = KMeans_Clustering()\n",
        "centroids_2,clusters_2 = model_2.Kmeans_training(data,10, max_iteration=100,mode_value=2)\n",
        "SSE_of_Jaccard = model_2.SSE_Calculation(centroids_2,clusters_2,data)"
      ],
      "metadata": {
        "id": "KXOvZeCE6szT"
      },
      "execution_count": null,
      "outputs": []
    },
    {
      "cell_type": "code",
      "source": [
        "print(\"Jarcard-K-Means SSE value : \",SSE_of_Jaccard)"
      ],
      "metadata": {
        "id": "sZlxTXcA6u-o"
      },
      "execution_count": null,
      "outputs": []
    },
    {
      "cell_type": "code",
      "source": [
        "cluster_labels_2 = cluster_labels_prediction(centroids_2,clusters_2,label)\n",
        "cluster_labels_2"
      ],
      "metadata": {
        "id": "CdZyGuYI6w8Y"
      },
      "execution_count": null,
      "outputs": []
    },
    {
      "cell_type": "code",
      "source": [
        "Jaccard_accuracy = accuracy_value(centroids_2, cluster_labels_2,test_data,test_label)\n",
        "Jaccard_accuracy"
      ],
      "metadata": {
        "id": "1703A62B6z4Z"
      },
      "execution_count": null,
      "outputs": []
    },
    {
      "cell_type": "code",
      "source": [
        "model_3 = KMeans_Clustering()\n",
        "centroids_3,clusters_3 = model_3.Kmeans_training(data,10, max_iteration = 100,mode_value=3)"
      ],
      "metadata": {
        "id": "1anytBbo610G"
      },
      "execution_count": null,
      "outputs": []
    },
    {
      "cell_type": "code",
      "source": [
        "SSE_of_Cosine = model_3.SSE_Calculation(centroids_3,clusters_3,data)"
      ],
      "metadata": {
        "id": "PefPEXif63sJ"
      },
      "execution_count": null,
      "outputs": []
    },
    {
      "cell_type": "code",
      "source": [
        "print(\"Euclidean-K-Means SSE value : \",SSE_of_Euclidean)\n",
        "print(\"Jarcard-K-Means SSE value : \",SSE_of_Jaccard)\n",
        "print(\"Cosine-K-Means SSE value : \",SSE_of_Cosine)"
      ],
      "metadata": {
        "id": "-tQS0spC63kW"
      },
      "execution_count": null,
      "outputs": []
    },
    {
      "cell_type": "code",
      "source": [
        "cluster_labels_3 = cluster_labels_prediction(centroids_3,clusters_3,label)\n",
        "cluster_labels_3"
      ],
      "metadata": {
        "id": "jjhm7LF_69DH"
      },
      "execution_count": null,
      "outputs": []
    },
    {
      "cell_type": "code",
      "source": [
        "Cosine_accuracy = accuracy_value(centroids_3, cluster_labels_3,test_data,test_label)\n",
        "Euclidean_accuracy\n",
        "Jaccard_accuracy\n",
        "Cosine_accuracy"
      ],
      "metadata": {
        "id": "tTqalKQl6-18"
      },
      "execution_count": null,
      "outputs": []
    },
    {
      "cell_type": "code",
      "source": [
        "print(\"Accuracy of Euclidean-K-Means : \",Euclidean_accuracy)\n",
        "print(\"Accuracy of Jarcard-K-Means : \",Jaccard_accuracy)\n",
        "print(\"Accuracy of Cosine-K-Means :\",Cosine_accuracy)"
      ],
      "metadata": {
        "id": "n49LgaPI7AuA"
      },
      "execution_count": null,
      "outputs": []
    }
  ]
}