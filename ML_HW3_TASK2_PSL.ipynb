{
  "cells": [
    {
      "cell_type": "code",
      "execution_count": null,
      "metadata": {
        "id": "XUMLUQKRKTht"
      },
      "outputs": [],
      "source": [
        "!pip install surprise\n",
        "import pandas as pd\n",
        "import numpy as np\n",
        "from surprise import SVD, KNNBasic\n",
        "from surprise import Dataset\n",
        "from surprise import Reader\n",
        "from surprise.prediction_algorithms.knns import KNNWithMeans\n",
        "from surprise.model_selection import cross_validate\n",
        "import matplotlib.pyplot as plt"
      ]
    },
    {
      "cell_type": "code",
      "execution_count": null,
      "metadata": {
        "id": "EUM0ygvxKUix"
      },
      "outputs": [],
      "source": [
        "#3a)\n",
        "data = pd.read_csv('ratings_small.csv')\n",
        "data.head()"
      ]
    },
    {
      "cell_type": "code",
      "execution_count": null,
      "metadata": {
        "id": "N8lpFYulKWom"
      },
      "outputs": [],
      "source": [
        "reader = Reader(line_format='user item rating timestamp',sep=',',skip_lines=1, rating_scale=(1, 5))\n",
        "data = Dataset.load_from_file(\"ratings_small.csv\",reader)"
      ]
    },
    {
      "cell_type": "code",
      "execution_count": null,
      "metadata": {
        "id": "OE2M-d6IKYr0"
      },
      "outputs": [],
      "source": [
        "#PROBABILISTIC MATRIX FACTORIZATION\n",
        "algorithm_svd = SVD()\n",
        "pmf_results = cross_validate(algorithm_svd, data, measures=['RMSE', 'MAE'], cv=5, verbose=True)\n",
        "print(\"Probabilistic Matrix Factorization Results : \",pmf_results)\n",
        "avg_mae_pmf = pmf_results['test_mae'].mean()\n",
        "avg_rsme_pmf = pmf_results['test_rmse'].mean()\n",
        "\n",
        "print(f'Average MAE of the  Probabilistic Matrix Factorization under the 5-folds cross-validation : {avg_mae_pmf}')\n",
        "print(f'Average RMSE of the  Probabilistic Matrix Factorization under the 5-folds cross-validation : {avg_rsme_pmf}')"
      ]
    },
    {
      "cell_type": "code",
      "execution_count": null,
      "metadata": {
        "id": "314h28OxS1r_"
      },
      "outputs": [],
      "source": [
        "#User Based Collabirative Filtering\n",
        "sim_options = {\n",
        "    \"user_based\": True, \n",
        "}\n",
        "\n",
        "knn = KNNWithMeans(sim_options=sim_options)\n",
        "ubcf_results = cross_validate(knn, data, measures=['RMSE', 'MAE'], cv=5, verbose=True)\n",
        "print(\"User Based Collabirative Filtering Results : \",ubcf_results)\n",
        "avg_mae_user = ubcf_results['test_mae'].mean()\n",
        "avg_rsme_user = ubcf_results['test_rmse'].mean()\n",
        "\n",
        "print(f'Average MAE of the User based Collaborative Filtering under the 5-folds cross-validation : {avg_mae_user}')\n",
        "print(f'Average RMSE of the User based Collaborative Filtering under the 5-folds cross-validation : {avg_rsme_user}')"
      ]
    },
    {
      "cell_type": "code",
      "execution_count": null,
      "metadata": {
        "id": "dZKtaAqVXm5o"
      },
      "outputs": [],
      "source": [
        "#Item Based Collabirative Filtering \n",
        "sim_options = {\n",
        "    \"user_based\": False,\n",
        "}\n",
        "\n",
        "knn = KNNWithMeans(sim_options=sim_options)\n",
        "ibcf_results = cross_validate(knn, data, measures=['RMSE', 'MAE'], cv=5, verbose=True)\n",
        "print(\"Item Based Collabirative Filtering Results : \",ibcf_results)\n",
        "avg_mae_item = ibcf_results['test_mae'].mean()\n",
        "avg_rsme_item = ibcf_results['test_rmse'].mean()\n",
        "\n",
        "print(f'Average MAE of the Item based Collaborative Filtering under the 5-folds cross-validation : {avg_mae_item}')\n",
        "print(f'Average RMSE of the Item based Collaborative Filtering under the 5-folds cross-validation : {avg_rsme_item}')"
      ]
    },
    {
      "cell_type": "code",
      "execution_count": null,
      "metadata": {
        "id": "S-d9XMGrgBvp"
      },
      "outputs": [],
      "source": [
        "#Cosine similarity for User based Collaborative Filtering\n",
        "sim_options = {'name':'cosine','user_based': True }\n",
        "user_cosine = KNNWithMeans(sim_options=sim_options)\n",
        "user_cosine_scores = cross_validate(user_cosine,data,measures=['RMSE', 'MAE'],cv=5,verbose=True)\n",
        "print('Cosine similarity impact on User Based Collaborative Filtering : ', user_cosine_scores)\n",
        "avg_mae_cosine = user_cosine_scores['test_mae'].mean()\n",
        "avg_rsme_cosine = user_cosine_scores['test_rmse'].mean()\n",
        "print(f'Cosine Average MAE of the User based Collaborative Filtering : {avg_mae_cosine}')\n",
        "print(f'Cosine Average RMSE of the User based Collaborative Filtering : {avg_rsme_cosine}')\n"
      ]
    },
    {
      "cell_type": "code",
      "execution_count": null,
      "metadata": {
        "id": "p8GtfQ97i25H"
      },
      "outputs": [],
      "source": [
        "#MSD similarity for User based Collaborative Filtering\n",
        "sim_options = {'name':'msd','user_based': True }\n",
        "user_msd = KNNWithMeans(sim_options=sim_options)\n",
        "user_msd_scores = cross_validate(user_msd,data,measures=['rmse', 'mae'],cv=5,verbose=True)\n",
        "print('MSD similarity impact on User Based Collaborative Filtering : ', user_msd_scores)\n",
        "avg_mae_msd = user_msd_scores['test_mae'].mean()\n",
        "avg_rsme_msd = user_msd_scores['test_rmse'].mean()\n",
        "print(f'MSD Average MAE of the User based Collaborative Filtering : {avg_mae_msd}')\n",
        "print(f'MSD Average RMSE of the User based Collaborative Filtering : {avg_rsme_msd}')"
      ]
    },
    {
      "cell_type": "code",
      "execution_count": null,
      "metadata": {
        "id": "Rrokeix5sA2F"
      },
      "outputs": [],
      "source": [
        "#Pearson similarity for User based Collaborative Filtering\n",
        "sim_options = {'name':'pearson_baseline','user_based': True }\n",
        "user_pearson = KNNWithMeans(sim_options=sim_options)\n",
        "user_pearson_scores = cross_validate(user_pearson,data,measures=['rmse', 'mae'],cv=5,verbose=True)\n",
        "print('Pearson similarity impact on User Based Collaborative Filtering : ', user_pearson_scores)\n",
        "avg_mae_pb = user_pearson_scores['test_mae'].mean()\n",
        "avg_rsme_pb = user_pearson_scores['test_rmse'].mean()\n",
        "print(f'Pearson Average MAE of the User based Collaborative Filtering : {avg_mae_pb}')\n",
        "print(f'Pearson Average RMSE of the User based Collaborative Filtering : {avg_rsme_pb}')"
      ]
    },
    {
      "cell_type": "code",
      "execution_count": null,
      "metadata": {
        "id": "7ahJ_frNsQBa"
      },
      "outputs": [],
      "source": [
        "#Cosine similarity for Item based Collaborative Filtering\n",
        "sim_options = {'name':'cosine','user_based': False }\n",
        "item_cosine = KNNWithMeans(sim_options=sim_options)\n",
        "item_cosine_scores = cross_validate(item_cosine,data,measures=['rmse', 'mae'],cv=5,verbose=True)\n",
        "print('Cosine similarity impact on Item Based Collaborative Filtering : ', item_cosine_scores)\n",
        "avg_mae_cosine = item_cosine_scores['test_mae'].mean()\n",
        "avg_rsme_cosine = item_cosine_scores['test_rmse'].mean()\n",
        "print(f'Cosine Average MAE of the Item based Collaborative Filtering : {avg_mae_cosine}')\n",
        "print(f'Cosine Average RMSE of the Item based Collaborative Filtering : {avg_rsme_cosine}')"
      ]
    },
    {
      "cell_type": "code",
      "execution_count": null,
      "metadata": {
        "id": "k8ru9SOdAii6"
      },
      "outputs": [],
      "source": [
        "#MSD similarity for Item based Collaborative Filtering\n",
        "sim_options = {'name':'msd','user_based': False }\n",
        "item_msd = KNNWithMeans(sim_options=sim_options)\n",
        "item_msd_scores = cross_validate(item_msd,data,measures=['rmse', 'mae'],cv=5,verbose=True)\n",
        "print('MSD similarity impact on Item Based Collaborative Filtering : ', item_msd_scores)\n",
        "avg_mae_msd = item_msd_scores['test_mae'].mean()\n",
        "avg_rsme_msd = item_msd_scores['test_rmse'].mean()\n",
        "print(f'MSD Average MAE of the Item based Collaborative Filtering : {avg_mae_msd}')\n",
        "print(f'MSD Average RMSE of the Item based Collaborative Filtering : {avg_rsme_msd}')"
      ]
    },
    {
      "cell_type": "code",
      "execution_count": null,
      "metadata": {
        "id": "28SbDWwjA44V"
      },
      "outputs": [],
      "source": [
        "#Pearson similarity for Item based Collaborative Filtering\n",
        "sim_options = {'name':'pearson_baseline','user_based': False }\n",
        "item_pearson = KNNWithMeans(sim_options=sim_options)\n",
        "item_pearson_scores = cross_validate(item_pearson,data,measures=['rmse', 'mae'],cv=5,verbose=True)\n",
        "print('Pearson similarity impact on Item Based Collaborative Filtering : ', item_pearson_scores)\n",
        "avg_mae_pearson = item_pearson_scores['test_mae'].mean()\n",
        "avg_rsme_pearson = item_pearson_scores['test_rmse'].mean()\n",
        "print(f'MSD Average MAE of the Item based Collaborative Filtering : {avg_mae_pearson}')\n",
        "print(f'MSD Average RMSE of the Item based Collaborative Filtering : {avg_rsme_pearson}')"
      ]
    },
    {
      "cell_type": "code",
      "execution_count": null,
      "metadata": {
        "id": "3e3vueXbGdqK"
      },
      "outputs": [],
      "source": [
        "measures = ['cosine', 'msd', 'pearson']\n",
        "metrics = ['MAE','RMSE']\n",
        "results = {\n",
        "    'user_based': dict(),\n",
        "    'item_based': dict()\n",
        "    }\n",
        "\n",
        "for measure_name in measures:\n",
        "    user_based = KNNBasic(sim_options={\n",
        "        'name': measure_name, \n",
        "        'user_based': True\n",
        "        })\n",
        "    item_based = KNNBasic(sim_options={\n",
        "        'name': measure_name, \n",
        "        'user_based': False\n",
        "        })   \n",
        "    user_based_data = cross_validate(user_based, data, metrics, cv=5, verbose=True)\n",
        "    item_based_data = cross_validate(item_based, data, metrics, cv=5, verbose=True)\n",
        "    results['user_based'][measure_name] = user_based_data\n",
        "    results['item_based'][measure_name] = item_based_data"
      ]
    },
    {
      "cell_type": "code",
      "execution_count": null,
      "metadata": {
        "id": "pf61YOX8I883"
      },
      "outputs": [],
      "source": [
        "data_for_plot = {'mae': {'cosine': [], 'msd': [],'pearson': []},'rmse': {'cosine': [],'msd': [],'pearson': []}}\n",
        "for i, j in results.items():\n",
        "    for value, result in results[i].items():\n",
        "        data_for_plot['mae'][value].append(result['test_mae'].mean())\n",
        "        data_for_plot['rmse'][value].append(result['test_rmse'].mean())\n",
        "\n",
        "data_for_plot"
      ]
    },
    {
      "cell_type": "code",
      "execution_count": null,
      "metadata": {
        "id": "5d_KWxVIKtBP"
      },
      "outputs": [],
      "source": [
        "#MAE for User Based Collaborative Filtering\n",
        "label = ['User Based Collaborative Filtering']\n",
        "value = np.arange(len(label)) \n",
        "fig = plt.figure()\n",
        "ax = fig.add_axes([0,0,1,1])\n",
        "plt.title(\"MAE for User Based\")\n",
        "ax.bar(value + 0.00, data_for_plot['mae']['cosine'][0], color = '#FF0000', width = 0.25)\n",
        "ax.bar(value + 0.25, data_for_plot['mae']['msd'][0], color = '#FFFF00', width = 0.25)\n",
        "ax.bar(value + 0.50, data_for_plot['mae']['pearson'][0], color = '#0000FF', width = 0.25)\n",
        "plt.xticks(value, label)\n",
        "plt.ylabel(\"MAE metric\")\n",
        "plt.yticks()\n",
        "plt.legend([\"Cosine\", \"MSD\", \"Pearson\"])\n",
        "\n",
        "\n",
        "#MAE for Item Based Collaborative Filtering\n",
        "label = ['Item Based Collaborative Filtering']\n",
        "value = np.arange(len(label)) \n",
        "fig = plt.figure()\n",
        "ax = fig.add_axes([0,0,1,1])\n",
        "plt.title(\"MAE for Item Based\")\n",
        "ax.bar(value + 0.00, data_for_plot['mae']['cosine'][1], color = '#FF0000', width = 0.25)\n",
        "ax.bar(value + 0.25, data_for_plot['mae']['msd'][1], color = '#FFFF00', width = 0.25)\n",
        "ax.bar(value + 0.50, data_for_plot['mae']['pearson'][1], color = '#0000FF', width = 0.25)\n",
        "plt.xticks(value, label)\n",
        "plt.ylabel(\"MAE metric\")\n",
        "plt.yticks()\n",
        "plt.legend([\"Cosine\", \"MSD\", \"Pearson\"])\n",
        "plt.show()\n",
        "\n"
      ]
    },
    {
      "cell_type": "code",
      "execution_count": null,
      "metadata": {
        "id": "OOThzXmDWofl"
      },
      "outputs": [],
      "source": [
        "#RMSE for User Based Collaborative Filtering\n",
        "label = ['User Based Collaborative Filtering']\n",
        "value = np.arange(len(label)) \n",
        "fig = plt.figure()\n",
        "ax = fig.add_axes([0,0,1,1])\n",
        "plt.title(\"RMSE for User Based\")\n",
        "ax.bar(value + 0.00, data_for_plot['rmse']['cosine'][0], color = '#FF0000', width = 0.25)\n",
        "ax.bar(value + 0.25, data_for_plot['rmse']['msd'][0], color = '#FFFF00', width = 0.25)\n",
        "ax.bar(value + 0.50, data_for_plot['rmse']['pearson'][0], color = '#0000FF', width = 0.25)\n",
        "plt.xticks(value, label)\n",
        "plt.ylabel(\"RMSE metric\")\n",
        "plt.yticks()\n",
        "plt.legend([\"Cosine\", \"MSD\", \"Pearson\"])\n",
        "\n",
        "\n",
        "#RMSE for Item Based Collaborative Filtering\n",
        "label = ['Item Based Collaborative Filtering']\n",
        "value = np.arange(len(label)) \n",
        "fig = plt.figure()\n",
        "ax = fig.add_axes([0,0,1,1])\n",
        "plt.title(\"RMSE for Item Based\")\n",
        "ax.bar(value + 0.00, data_for_plot['rmse']['cosine'][1], color = '#FF0000', width = 0.25)\n",
        "ax.bar(value + 0.25, data_for_plot['rmse']['msd'][1], color = '#FFFF00', width = 0.25)\n",
        "ax.bar(value + 0.50, data_for_plot['rmse']['pearson'][1], color = '#0000FF', width = 0.25)\n",
        "plt.xticks(value, label)\n",
        "plt.ylabel(\"RMSE metric\")\n",
        "plt.yticks()\n",
        "plt.legend([\"Cosine\", \"MSD\", \"Pearson\"])\n",
        "plt.show()\n"
      ]
    },
    {
      "cell_type": "code",
      "execution_count": null,
      "metadata": {
        "id": "iCziOipGYC4w"
      },
      "outputs": [],
      "source": [
        "\n",
        "\n",
        "ks = np.arange(1, 20, 1)\n",
        "ub_mae = []\n",
        "ub_rmse = []\n",
        "for k in ks:     \n",
        "    sim_options = {\n",
        "    \"user_based\": True, \n",
        "    }    \n",
        "    knn = KNNWithMeans(k, sim_options=sim_options)\n",
        "    results = cross_validate(knn, data, measures=['RMSE', 'MAE'], cv=5, verbose=True)\n",
        "    mean_mae = results['test_mae'].mean()\n",
        "    mean_rsme = results['test_rmse'].mean()\n",
        "    ub_mae.append(mean_mae)\n",
        "    ub_rmse.append(mean_rsme)"
      ]
    },
    {
      "cell_type": "code",
      "execution_count": null,
      "metadata": {
        "id": "vjvngon3djw1"
      },
      "outputs": [],
      "source": [
        "x = [1, 2, 3, 4, 5, 6]\n",
        "labels = ['0', '20', '40', '60', '80', '100']\n",
        "plt.figure(figsize=(10,5))\n",
        "plt.plot(ks, ub_rmse)\n",
        "plt.title('NEIGHBOURS FOR RMSE ON USER-BASED COLLAB. FILTERING')\n",
        "plt.xlabel('neighbours')\n",
        "plt.ylabel('RMSE')\n",
        "plt.xticks(x, labels)\n",
        "plt.show()\n",
        "\n",
        "plt.figure(figsize=(10,5))\n",
        "plt.plot(ks, ub_mae)\n",
        "plt.title('NEIGHBOURS FOR MAE ON USER-BASED COLLAB. FILTERING')\n",
        "plt.xlabel('neighbours')\n",
        "plt.ylabel('MAE')\n",
        "plt.xticks(x, labels)\n",
        "plt.show()"
      ]
    },
    {
      "cell_type": "code",
      "execution_count": null,
      "metadata": {
        "id": "gnSKu9Qkdp5k"
      },
      "outputs": [],
      "source": [
        "ib_mae = []\n",
        "ib_rmse = []\n",
        "\n",
        "for k in ks: \n",
        "    sim_options = {\n",
        "    \"user_based\": False,  \n",
        "    }\n",
        "    \n",
        "    knn = KNNWithMeans(k, sim_options=sim_options)\n",
        "    scores = cross_validate(knn, data, measures=['RMSE', 'MAE'], cv=5, verbose=True)\n",
        "    \n",
        "    mean_mae = scores['test_mae'].mean()\n",
        "    mean_rsme = scores['test_rmse'].mean()\n",
        "    \n",
        "    ib_mae.append(mean_mae)\n",
        "    ib_rmse.append(mean_rsme)"
      ]
    },
    {
      "cell_type": "code",
      "execution_count": null,
      "metadata": {
        "id": "y-rrqv_Zducr"
      },
      "outputs": [],
      "source": [
        "plt.figure(figsize=(10,5))\n",
        "plt.plot(ks, ib_rmse)\n",
        "plt.title('NEIGHBOURS FOR RMSE ON ITEM-BASED COLLAB. FILTERING')\n",
        "plt.xlabel('neighbours')\n",
        "plt.ylabel('RMSE')\n",
        "\n",
        "plt.show()\n",
        "\n",
        "plt.figure(figsize=(10,5))\n",
        "plt.plot(ks, ib_mae)\n",
        "plt.title('NEIGHBOURS FOR MAE ON ITEM-BASED COLLAB. FILTERING')\n",
        "plt.xlabel('neighbours')\n",
        "plt.ylabel('MAE')\n",
        "\n",
        "\n",
        "plt.show()"
      ]
    },
    {
      "cell_type": "code",
      "execution_count": null,
      "metadata": {
        "id": "eo4pYNxxiOMd"
      },
      "outputs": [],
      "source": [
        "plt.plot(ub_rmse, color = 'green')\n",
        "plt.plot(ib_rmse, color='blue')\n",
        "plt.xlabel(\"K\")\n",
        "plt.ylabel(\"RMSE\")\n",
        "plt.title(\"RMSE for values of K - User-Based CF and Item-Based CF\")\n",
        "plt.show()"
      ]
    },
    {
      "cell_type": "code",
      "execution_count": null,
      "metadata": {
        "id": "yUSX6o8yfnAG"
      },
      "outputs": [],
      "source": [
        "print('\\nUSER-BASED COLLAB. FILTERING - RMSE')\n",
        "print('Best K: ', ks[np.argmin(ub_rmse)])\n",
        "print('Best K RMSE: ', np.min(ub_rmse))\n",
        "\n",
        "print('\\nITEM-BASED COLLAB. FILTERING - RMSE')\n",
        "print('Best K: ', ks[np.argmin(ib_rmse)])\n",
        "print('Best K RMSE: ', np.min(ib_rmse))"
      ]
    }
  ],
  "metadata": {
    "colab": {
      "provenance": []
    },
    "kernelspec": {
      "display_name": "Python 3",
      "name": "python3"
    },
    "language_info": {
      "name": "python"
    }
  },
  "nbformat": 4,
  "nbformat_minor": 0
}